{
 "cells": [
  {
   "cell_type": "code",
   "execution_count": 2,
   "metadata": {},
   "outputs": [],
   "source": [
    "# TensorFlow's import convention is tf\n",
    "import tensorflow as tf"
   ]
  },
  {
   "cell_type": "code",
   "execution_count": 5,
   "metadata": {},
   "outputs": [
    {
     "data": {
      "text/plain": [
       "2"
      ]
     },
     "execution_count": 5,
     "metadata": {},
     "output_type": "execute_result"
    }
   ],
   "source": [
    "[3, 2, 1]# single dimension tensor\n",
    "[[3, 2], [1, 3]] # two dimesnsion tensor\n",
    "[[[1], [2]], [[1], [2]]]\n",
    "2# scaler value can be considered a tensor of rank 0 even though its sing"
   ]
  },
  {
   "cell_type": "code",
   "execution_count": 6,
   "metadata": {},
   "outputs": [
    {
     "name": "stdout",
     "output_type": "stream",
     "text": [
      "Tensor(\"Const_1:0\", shape=(), dtype=int32)\n"
     ]
    }
   ],
   "source": [
    "# Create the Node\n",
    "node_const = tf.constant(70)\n",
    "\n",
    "# Print the Node\n",
    "print(node_const)"
   ]
  },
  {
   "cell_type": "code",
   "execution_count": 7,
   "metadata": {},
   "outputs": [
    {
     "data": {
      "text/plain": [
       "70"
      ]
     },
     "execution_count": 7,
     "metadata": {},
     "output_type": "execute_result"
    }
   ],
   "source": [
    "sess = tf.Session()\n",
    "\n",
    "sess.run(node_const)"
   ]
  },
  {
   "cell_type": "code",
   "execution_count": 8,
   "metadata": {},
   "outputs": [
    {
     "name": "stdout",
     "output_type": "stream",
     "text": [
      "Tensor(\"Add_1:0\", shape=(), dtype=int32)\n"
     ]
    }
   ],
   "source": [
    "# Let's make a node that adds our constant to itself\n",
    "node_add = tf.add(node_const, node_const)\n",
    "\n",
    "# Print that node!\n",
    "print(node_add)"
   ]
  },
  {
   "cell_type": "code",
   "execution_count": 9,
   "metadata": {},
   "outputs": [
    {
     "name": "stdout",
     "output_type": "stream",
     "text": [
      "Tensor(\"Placeholder_1:0\", dtype=int32)\n"
     ]
    }
   ],
   "source": [
    "# Initiate our node with a default data type\n",
    "node_place = tf.placeholder(tf.int32)\n",
    "\n",
    "# Print it again!\n",
    "print(node_place)"
   ]
  },
  {
   "cell_type": "code",
   "execution_count": 21,
   "metadata": {},
   "outputs": [
    {
     "data": {
      "text/plain": [
       "5"
      ]
     },
     "execution_count": 21,
     "metadata": {},
     "output_type": "execute_result"
    }
   ],
   "source": [
    "#Add a two constants, 3 and 2, together.\n",
    "# Establish a placeholder, named 'a'\n",
    "a = tf.placeholder(tf.int32)\n",
    "\n",
    "# Create an operator node that takes our placeholder and a constant node\n",
    "add_numbers = tf.add(a, tf.constant(2))\n",
    "\n",
    "# Run the node to return our output\n",
    "sess.run(add_numbers, {a : 3})"
   ]
  },
  {
   "cell_type": "code",
   "execution_count": 22,
   "metadata": {},
   "outputs": [
    {
     "data": {
      "text/plain": [
       "10.0"
      ]
     },
     "execution_count": 22,
     "metadata": {},
     "output_type": "execute_result"
    }
   ],
   "source": [
    "# Divide a placeholder by 2\n",
    "b = tf.placeholder(tf.int32)\n",
    "\n",
    "divide_by_2 = tf.divide(b, tf.constant(2))\n",
    "\n",
    "# run the node to return our divition output\n",
    "sess.run(divide_by_2,{b : 20})"
   ]
  },
  {
   "cell_type": "code",
   "execution_count": 24,
   "metadata": {},
   "outputs": [
    {
     "data": {
      "text/plain": [
       "9"
      ]
     },
     "execution_count": 24,
     "metadata": {},
     "output_type": "execute_result"
    }
   ],
   "source": [
    "# Take two placeholders and multiply them\n",
    "# Define placeholders\n",
    "c = tf.placeholder(tf.int32)\n",
    "d = tf.placeholder(tf.int32)\n",
    "\n",
    "# Define operation\n",
    "mult_by_2placeholder = tf.multiply(c, d)\n",
    "\n",
    "# Run the node to return our output\n",
    "sess.run(mult_by_2placeholder, feed_dict={c: 3, d: 3})"
   ]
  },
  {
   "cell_type": "code",
   "execution_count": 28,
   "metadata": {},
   "outputs": [
    {
     "data": {
      "text/plain": [
       "28"
      ]
     },
     "execution_count": 28,
     "metadata": {},
     "output_type": "execute_result"
    }
   ],
   "source": [
    "# Sum a 7 and a placeholder, then multiply it by two\n",
    "# Establish a placeholder, named 'a'\n",
    "a = tf.placeholder(tf.int32)\n",
    "\n",
    "# Create an operator node that takes our placeholder and a constant node\n",
    "add_by_7 = tf.add(a, tf.constant(7))\n",
    "\n",
    "# Run the node to return our output\n",
    "sum_7_3 = sess.run(add_by_7, {a : 7})\n",
    "\n",
    "# Define operation\n",
    "mul_2 = tf.multiply(sum_7_3, tf.constant(2))\n",
    "\n",
    "# Run the node to return our output\n",
    "sess.run(mul_2)"
   ]
  }
 ],
 "metadata": {
  "kernelspec": {
   "display_name": "Python 3",
   "language": "python",
   "name": "python3"
  },
  "language_info": {
   "codemirror_mode": {
    "name": "ipython",
    "version": 3
   },
   "file_extension": ".py",
   "mimetype": "text/x-python",
   "name": "python",
   "nbconvert_exporter": "python",
   "pygments_lexer": "ipython3",
   "version": "3.7.3"
  }
 },
 "nbformat": 4,
 "nbformat_minor": 2
}
